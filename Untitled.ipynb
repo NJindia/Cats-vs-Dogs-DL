{
 "cells": [
  {
   "cell_type": "code",
   "execution_count": 1,
   "id": "2cb41951",
   "metadata": {},
   "outputs": [],
   "source": [
    "import sys\n",
    "import tensorflow as tf\n",
    "import numpy as np\n",
    "import pandas as pd\n",
    "import matplotlib.pyplot as plt\n",
    "from os import listdir\n",
    "from keras import models, layers, Sequential\n",
    "from os.path import join, isfile\n",
    "from keras.layers import Conv2D, MaxPooling2D, Flatten, Dense\n",
    "from tensorflow.keras.optimizers import SGD\n",
    "from sklearn.model_selection import KFold\n",
    "from keras.preprocessing.image import load_img, img_to_array, ImageDataGenerator"
   ]
  },
  {
   "cell_type": "code",
   "execution_count": 2,
   "id": "ee40291f",
   "metadata": {},
   "outputs": [
    {
     "name": "stderr",
     "output_type": "stream",
     "text": [
      "C:\\Users\\techn\\AppData\\Roaming\\Python\\Python39\\site-packages\\PIL\\TiffImagePlugin.py:811: UserWarning: Truncated File Read\n",
      "  warnings.warn(str(msg))\n"
     ]
    }
   ],
   "source": [
    "def getImgs(parent_folder_path):\n",
    "    imgs = []\n",
    "    for f in listdir(parent_folder_path):\n",
    "        if isfile(join(parent_folder_path, f)):\n",
    "            path = join(parent_folder_path, f)\n",
    "            img = load_img(path, target_size=(200, 200))\n",
    "            img_arr = img_to_array(img)\n",
    "        imgs.append(img_arr)\n",
    "    return np.array(imgs)\n",
    "\n",
    "# cat_imgs = getImgs('/home/techn/Pictures/PetImages/Cat')\n",
    "# dog_imgs = getImgs('/home/techn/Pictures/PetImages/Dog')\n",
    "cat_imgs = getImgs('D:\\\\Downloads\\\\kagglecatsanddogs_3367a\\\\PetImages\\\\Cat')[:5000]\n",
    "dog_imgs = getImgs('D:\\\\Downloads\\\\kagglecatsanddogs_3367a\\\\PetImages\\\\Dog')[:5000]\n",
    "np.save('cat_photos.npy', cat_imgs)\n",
    "np.save('dog_photos.npy', dog_imgs)"
   ]
  },
  {
   "cell_type": "code",
   "execution_count": 4,
   "id": "ebd392aa",
   "metadata": {},
   "outputs": [
    {
     "data": {
      "text/plain": [
       "5000"
      ]
     },
     "execution_count": 4,
     "metadata": {},
     "output_type": "execute_result"
    }
   ],
   "source": [
    "cat_imgs = np.load('cat_photos.npy')\n",
    "dog_imgs = np.load('dog_photos.npy')\n",
    "len(cat_imgs)\n",
    "len(dog_imgs)"
   ]
  },
  {
   "cell_type": "code",
   "execution_count": 5,
   "id": "81224899",
   "metadata": {},
   "outputs": [],
   "source": [
    "network = Sequential()\n",
    "network.add(Conv2D(32, (3, 3), activation='relu', kernel_initializer='he_uniform', padding='same',\n",
    "                   input_shape=(200, 200, 3)))\n",
    "network.add(MaxPooling2D((2, 2)))\n",
    "network.add(Flatten())\n",
    "network.add(Dense(128, activation='relu', kernel_initializer='he_uniform'))\n",
    "network.add(Dense(1, activation='sigmoid'))\n",
    "opt = SGD(learning_rate=0.001, momentum=0.9)\n",
    "network.compile(optimizer=opt, loss='binary_crossentropy', metrics=['accuracy'])"
   ]
  },
  {
   "cell_type": "code",
   "execution_count": 6,
   "id": "b59ce40e",
   "metadata": {},
   "outputs": [],
   "source": [
    "# plot diagnostic learning curves\n",
    "def summarize_diagnostics(history):\n",
    "    # plot loss\n",
    "    plt.subplot(211)\n",
    "    plt.title('Cross Entropy Loss')\n",
    "    plt.plot(history.history['loss'], color='blue', label='train')\n",
    "    plt.plot(history.history['val_loss'], color='orange', label='test')\n",
    "    # plot accuracy\n",
    "    plt.subplot(212)\n",
    "    plt.title('Classification Accuracy')\n",
    "    plt.plot(history.history['accuracy'], color='blue', label='train')\n",
    "    plt.plot(history.history['val_accuracy'], color='orange', label='test')\n",
    "    plt.show()\n",
    "    \n",
    "def kfold(network, cat_imgs, dog_imgs):\n",
    "    kf = KFold(n_splits=5)\n",
    "    datagen = ImageDataGenerator(rescale=1.0 / 255.0)\n",
    "    for train_idx, test_idx in kf.split(cat_imgs):\n",
    "        train_imgs = np.append(cat_imgs[train_idx], dog_imgs[train_idx], axis=0)\n",
    "        train_labels = np.append(np.full(len(train_idx), 0), np.full(len(train_idx), 1))\n",
    "\n",
    "        test_imgs = np.append(cat_imgs[test_idx], dog_imgs[test_idx], axis=0)\n",
    "        test_labels = np.append(np.full(len(test_idx), 0), np.full(len(test_idx), 1))\n",
    "\n",
    "        train_it = datagen.flow(train_imgs, train_labels, batch_size=512)\n",
    "        test_it = datagen.flow(test_imgs, test_labels, batch_size=512)\n",
    "        history = network.fit(train_it, steps_per_epoch=len(train_it), validation_data=test_it,\n",
    "                              validation_steps=len(test_it), epochs=20, verbose=3)\n",
    "        summarize_diagnostics(history)\n",
    "        train_loss, train_acc = network.evaluate(train_imgs, train_labels)\n",
    "        test_loss, test_acc = network.evaluate(test_imgs, test_labels)"
   ]
  },
  {
   "cell_type": "code",
   "execution_count": 1,
   "id": "4c813808",
   "metadata": {},
   "outputs": [
    {
     "ename": "NameError",
     "evalue": "name 'kfold' is not defined",
     "output_type": "error",
     "traceback": [
      "\u001b[1;31m---------------------------------------------------------------------------\u001b[0m",
      "\u001b[1;31mNameError\u001b[0m                                 Traceback (most recent call last)",
      "Input \u001b[1;32mIn [1]\u001b[0m, in \u001b[0;36m<module>\u001b[1;34m\u001b[0m\n\u001b[1;32m----> 1\u001b[0m \u001b[43mkfold\u001b[49m(network, cat_imgs, dog_imgs)\n",
      "\u001b[1;31mNameError\u001b[0m: name 'kfold' is not defined"
     ]
    }
   ],
   "source": [
    "kfold(network, cat_imgs, dog_imgs)"
   ]
  },
  {
   "cell_type": "code",
   "execution_count": null,
   "id": "f5d2f490",
   "metadata": {},
   "outputs": [],
   "source": []
  }
 ],
 "metadata": {
  "kernelspec": {
   "display_name": "Python 3 (ipykernel)",
   "language": "python",
   "name": "python3"
  },
  "language_info": {
   "codemirror_mode": {
    "name": "ipython",
    "version": 3
   },
   "file_extension": ".py",
   "mimetype": "text/x-python",
   "name": "python",
   "nbconvert_exporter": "python",
   "pygments_lexer": "ipython3",
   "version": "3.9.4"
  }
 },
 "nbformat": 4,
 "nbformat_minor": 5
}
